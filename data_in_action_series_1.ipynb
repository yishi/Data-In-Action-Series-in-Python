{
 "metadata": {
  "name": "",
  "signature": "sha256:40897dc5203b8b036a5ac9961a10c11027416c58fba8bb00718fa3bf6323d90f"
 },
 "nbformat": 3,
 "nbformat_minor": 0,
 "worksheets": [
  {
   "cells": [
    {
     "cell_type": "markdown",
     "metadata": {},
     "source": [
      "# Data In Action Series 1: Recognition of Handwritten Digits"
     ]
    },
    {
     "cell_type": "code",
     "collapsed": false,
     "input": [
      "import pandas as pd\n",
      "import numpy as np\n",
      "\n",
      "%matplotlib inline\n",
      "import matplotlib.pyplot as plt\n",
      "import seaborn as sns"
     ],
     "language": "python",
     "metadata": {},
     "outputs": [],
     "prompt_number": 1
    },
    {
     "cell_type": "code",
     "collapsed": false,
     "input": [
      "from sklearn.datasets import load_digits"
     ],
     "language": "python",
     "metadata": {},
     "outputs": [],
     "prompt_number": 2
    },
    {
     "cell_type": "markdown",
     "metadata": {},
     "source": [
      "## Explore the data"
     ]
    },
    {
     "cell_type": "code",
     "collapsed": false,
     "input": [
      "digits = load_digits()"
     ],
     "language": "python",
     "metadata": {},
     "outputs": [],
     "prompt_number": 3
    },
    {
     "cell_type": "code",
     "collapsed": false,
     "input": [
      "digits.keys()"
     ],
     "language": "python",
     "metadata": {},
     "outputs": [
      {
       "metadata": {},
       "output_type": "pyout",
       "prompt_number": 4,
       "text": [
        "['images', 'data', 'target_names', 'DESCR', 'target']"
       ]
      }
     ],
     "prompt_number": 4
    },
    {
     "cell_type": "code",
     "collapsed": false,
     "input": [
      "digits.DESCR"
     ],
     "language": "python",
     "metadata": {},
     "outputs": [
      {
       "metadata": {},
       "output_type": "pyout",
       "prompt_number": 5,
       "text": [
        "\" Optical Recognition of Handwritten Digits Data Set\\n\\nNotes\\n-----\\nData Set Characteristics:\\n    :Number of Instances: 5620\\n    :Number of Attributes: 64\\n    :Attribute Information: 8x8 image of integer pixels in the range 0..16.\\n    :Missing Attribute Values: None\\n    :Creator: E. Alpaydin (alpaydin '@' boun.edu.tr)\\n    :Date: July; 1998\\n\\nThis is a copy of the test set of the UCI ML hand-written digits datasets\\nhttp://archive.ics.uci.edu/ml/datasets/Optical+Recognition+of+Handwritten+Digits\\n\\nThe data set contains images of hand-written digits: 10 classes where\\neach class refers to a digit.\\n\\nPreprocessing programs made available by NIST were used to extract\\nnormalized bitmaps of handwritten digits from a preprinted form. From a\\ntotal of 43 people, 30 contributed to the training set and different 13\\nto the test set. 32x32 bitmaps are divided into nonoverlapping blocks of\\n4x4 and the number of on pixels are counted in each block. This generates\\nan input matrix of 8x8 where each element is an integer in the range\\n0..16. This reduces dimensionality and gives invariance to small\\ndistortions.\\n\\nFor info on NIST preprocessing routines, see M. D. Garris, J. L. Blue, G.\\nT. Candela, D. L. Dimmick, J. Geist, P. J. Grother, S. A. Janet, and C.\\nL. Wilson, NIST Form-Based Handprint Recognition System, NISTIR 5469,\\n1994.\\n\\nReferences\\n----------\\n  - C. Kaynak (1995) Methods of Combining Multiple Classifiers and Their\\n    Applications to Handwritten Digit Recognition, MSc Thesis, Institute of\\n    Graduate Studies in Science and Engineering, Bogazici University.\\n  - E. Alpaydin, C. Kaynak (1998) Cascading Classifiers, Kybernetika.\\n  - Ken Tang and Ponnuthurai N. Suganthan and Xi Yao and A. Kai Qin.\\n    Linear dimensionalityreduction using relevance weighted LDA. School of\\n    Electrical and Electronic Engineering Nanyang Technological University.\\n    2005.\\n  - Claudio Gentile. A New Approximate Maximal Margin Classification\\n    Algorithm. NIPS. 2000.\\n\""
       ]
      }
     ],
     "prompt_number": 5
    },
    {
     "cell_type": "code",
     "collapsed": false,
     "input": [
      "digits.images.shape"
     ],
     "language": "python",
     "metadata": {},
     "outputs": [
      {
       "metadata": {},
       "output_type": "pyout",
       "prompt_number": 6,
       "text": [
        "(1797L, 8L, 8L)"
       ]
      }
     ],
     "prompt_number": 6
    },
    {
     "cell_type": "markdown",
     "metadata": {},
     "source": [
      "\n",
      "**This dataset is made up of 1797 8x8 images. **\n",
      "\n",
      "**Each image is of a hand-written digit. **\n",
      "\n",
      "**In order to utilize an 8x8 figure like this, we\u2019d have to first transform it into a feature vector with length 64.**\n"
     ]
    },
    {
     "cell_type": "code",
     "collapsed": false,
     "input": [
      "digits.data.shape"
     ],
     "language": "python",
     "metadata": {},
     "outputs": [
      {
       "metadata": {},
       "output_type": "pyout",
       "prompt_number": 7,
       "text": [
        "(1797L, 64L)"
       ]
      }
     ],
     "prompt_number": 7
    },
    {
     "cell_type": "code",
     "collapsed": false,
     "input": [
      "digits.target.shape"
     ],
     "language": "python",
     "metadata": {},
     "outputs": [
      {
       "metadata": {},
       "output_type": "pyout",
       "prompt_number": 8,
       "text": [
        "(1797L,)"
       ]
      }
     ],
     "prompt_number": 8
    },
    {
     "cell_type": "code",
     "collapsed": false,
     "input": [
      "digits.target_names"
     ],
     "language": "python",
     "metadata": {},
     "outputs": [
      {
       "metadata": {},
       "output_type": "pyout",
       "prompt_number": 9,
       "text": [
        "array([0, 1, 2, 3, 4, 5, 6, 7, 8, 9])"
       ]
      }
     ],
     "prompt_number": 9
    },
    {
     "cell_type": "code",
     "collapsed": false,
     "input": [
      "plt.imshow(digits.images[0], cmap=plt.cm.gray_r, interpolation='nearest')\n",
      "plt.title('%i' % digits.target[0]);"
     ],
     "language": "python",
     "metadata": {},
     "outputs": [
      {
       "metadata": {},
       "output_type": "display_data",
       "png": "[encoded data removed]",
       "text": [
        "<matplotlib.figure.Figure at 0x171da3c8>"
       ]
      }
     ],
     "prompt_number": 10
    },
    {
     "cell_type": "code",
     "collapsed": false,
     "input": [
      "digits.images[0]"
     ],
     "language": "python",
     "metadata": {},
     "outputs": [
      {
       "metadata": {},
       "output_type": "pyout",
       "prompt_number": 11,
       "text": [
        "array([[  0.,   0.,   5.,  13.,   9.,   1.,   0.,   0.],\n",
        "       [  0.,   0.,  13.,  15.,  10.,  15.,   5.,   0.],\n",
        "       [  0.,   3.,  15.,   2.,   0.,  11.,   8.,   0.],\n",
        "       [  0.,   4.,  12.,   0.,   0.,   8.,   8.,   0.],\n",
        "       [  0.,   5.,   8.,   0.,   0.,   9.,   8.,   0.],\n",
        "       [  0.,   4.,  11.,   0.,   1.,  12.,   7.,   0.],\n",
        "       [  0.,   2.,  14.,   5.,  10.,  12.,   0.,   0.],\n",
        "       [  0.,   0.,   6.,  13.,  10.,   0.,   0.,   0.]])"
       ]
      }
     ],
     "prompt_number": 11
    },
    {
     "cell_type": "code",
     "collapsed": false,
     "input": [
      "digits.target[0]"
     ],
     "language": "python",
     "metadata": {},
     "outputs": [
      {
       "metadata": {},
       "output_type": "pyout",
       "prompt_number": 12,
       "text": [
        "0"
       ]
      }
     ],
     "prompt_number": 12
    },
    {
     "cell_type": "code",
     "collapsed": false,
     "input": [
      "digits.data[0]"
     ],
     "language": "python",
     "metadata": {},
     "outputs": [
      {
       "metadata": {},
       "output_type": "pyout",
       "prompt_number": 13,
       "text": [
        "array([  0.,   0.,   5.,  13.,   9.,   1.,   0.,   0.,   0.,   0.,  13.,\n",
        "        15.,  10.,  15.,   5.,   0.,   0.,   3.,  15.,   2.,   0.,  11.,\n",
        "         8.,   0.,   0.,   4.,  12.,   0.,   0.,   8.,   8.,   0.,   0.,\n",
        "         5.,   8.,   0.,   0.,   9.,   8.,   0.,   0.,   4.,  11.,   0.,\n",
        "         1.,  12.,   7.,   0.,   0.,   2.,  14.,   5.,  10.,  12.,   0.,\n",
        "         0.,   0.,   0.,   6.,  13.,  10.,   0.,   0.,   0.])"
       ]
      }
     ],
     "prompt_number": 13
    },
    {
     "cell_type": "code",
     "collapsed": false,
     "input": [
      "for index, (image, label) in enumerate(list(zip(digits.images, digits.target))[:10]):\n",
      "    plt.subplot(2, 10, index + 1)\n",
      "    plt.axis('off')\n",
      "    plt.imshow(image, cmap=plt.cm.gray_r, interpolation='nearest')\n",
      "    plt.title('%i' % label)"
     ],
     "language": "python",
     "metadata": {},
     "outputs": [
      {
       "metadata": {},
       "output_type": "display_data",
       "png": "[encoded data removed]",
       "text": [
        "<matplotlib.figure.Figure at 0x17270ac8>"
       ]
      }
     ],
     "prompt_number": 14
    },
    {
     "cell_type": "markdown",
     "metadata": {},
     "source": [
      "## Make the model"
     ]
    },
    {
     "cell_type": "code",
     "collapsed": false,
     "input": [
      "# load the modules\n",
      "from sklearn.cross_validation import train_test_split\n",
      "from sklearn.cross_validation import cross_val_score\n",
      "\n",
      "from sklearn.grid_search import GridSearchCV\n",
      "from sklearn.metrics import classification_report\n",
      "from sklearn.metrics import confusion_matrix\n",
      "\n",
      "from sklearn.tree import DecisionTreeClassifier\n",
      "from sklearn.linear_model import LogisticRegression\n",
      "from sklearn.neighbors import KNeighborsClassifier\n",
      "from sklearn.naive_bayes import GaussianNB\n",
      "from sklearn.svm import SVC, LinearSVC\n",
      "from sklearn.ensemble import (BaggingClassifier, RandomForestClassifier, ExtraTreesClassifier,\n",
      "                              AdaBoostClassifier, GradientBoostingClassifier)"
     ],
     "language": "python",
     "metadata": {},
     "outputs": [],
     "prompt_number": 15
    },
    {
     "cell_type": "code",
     "collapsed": false,
     "input": [
      "# model\n",
      "tree = DecisionTreeClassifier(random_state=0)\n",
      "logistic = LogisticRegression(random_state=0)\n",
      "knn = KNeighborsClassifier(weights = 'distance')\n",
      "nb = GaussianNB()\n",
      "\n",
      "svc = SVC(kernel='linear')\n",
      "rbf_svc = SVC(kernel='rbf')\n",
      "poly_svc = SVC(kernel='poly')\n",
      "lin_svc = LinearSVC()\n",
      "\n",
      "n_estimators = 100\n",
      "bag = BaggingClassifier(DecisionTreeClassifier(), n_estimators = n_estimators, random_state=0)\n",
      "rf = RandomForestClassifier(n_estimators=n_estimators, random_state=0)\n",
      "ExtraTree = ExtraTreesClassifier(n_estimators=n_estimators, random_state=0)\n",
      "adaboost = AdaBoostClassifier(DecisionTreeClassifier(), n_estimators=n_estimators, random_state=0)\n",
      "gb = GradientBoostingClassifier(n_estimators=n_estimators, random_state=0)\n",
      "\n",
      "model_list = [tree, logistic, knn, nb, svc, rbf_svc, poly_svc, lin_svc, bag, rf, ExtraTree, adaboost, gb]"
     ],
     "language": "python",
     "metadata": {},
     "outputs": [],
     "prompt_number": 16
    },
    {
     "cell_type": "code",
     "collapsed": false,
     "input": [
      "scores_mean = list()\n",
      "scores_std = list()\n",
      "for model in model_list:\n",
      "    this_scores = cross_val_score(model, digits.data, digits.target, cv = 5)\n",
      "    scores_mean.append(np.mean(this_scores))\n",
      "    scores_std.append(np.std(this_scores))"
     ],
     "language": "python",
     "metadata": {},
     "outputs": [],
     "prompt_number": 17
    },
    {
     "cell_type": "code",
     "collapsed": false,
     "input": [
      "plt.errorbar(range(13), scores_mean, yerr=scores_std, fmt = 'ob')\n",
      "plt.xlim(-1, 13)\n",
      "plt.xticks(range(13), ('tree', 'logistic', 'knn', 'nb', 'svc', 'rbf_s', 'poly_s', 'lin_s', 'bag', 'rf', 'ETree', 'adab', 'gb'))\n",
      "plt.xlabel('Models')\n",
      "plt.ylabel('Accuracy')\n",
      "plt.title(u'The accuracy of recognize handwritten digits');"
     ],
     "language": "python",
     "metadata": {},
     "outputs": [
      {
       "metadata": {},
       "output_type": "display_data",
       "png": "[encoded data removed]",
       "text": [
        "<matplotlib.figure.Figure at 0x17406f60>"
       ]
      }
     ],
     "prompt_number": 18
    },
    {
     "cell_type": "markdown",
     "metadata": {},
     "source": [
      "**The good models are: **\n",
      "\n",
      "- k nearest neighbors\n",
      "- support vector machine which kernel is poly\n",
      "- extra tree model"
     ]
    },
    {
     "cell_type": "code",
     "collapsed": false,
     "input": [
      "# model again\n",
      "knn = KNeighborsClassifier(weights = 'distance')\n",
      "knn_u = KNeighborsClassifier(weights = 'uniform')\n",
      "bag_knn = BaggingClassifier(KNeighborsClassifier(weights = 'distance'), n_estimators = n_estimators, random_state=0)\n",
      "svc = SVC(kernel='linear')\n",
      "poly_svc = SVC(kernel='poly')\n",
      "ExtraTree = ExtraTreesClassifier(n_estimators=200, random_state=0)\n",
      "\n",
      "model_list2 = [knn, knn_u, bag_knn, svc, poly_svc, ExtraTree]"
     ],
     "language": "python",
     "metadata": {},
     "outputs": [],
     "prompt_number": 19
    },
    {
     "cell_type": "code",
     "collapsed": false,
     "input": [
      "scores_mean2 = list()\n",
      "scores_std2 = list()\n",
      "for model in model_list2:\n",
      "    this_scores2 = cross_val_score(model, digits.data, digits.target, cv = 5)\n",
      "    scores_mean2.append(np.mean(this_scores2))\n",
      "    scores_std2.append(np.std(this_scores2))"
     ],
     "language": "python",
     "metadata": {},
     "outputs": [],
     "prompt_number": 20
    },
    {
     "cell_type": "code",
     "collapsed": false,
     "input": [
      "plt.errorbar(range(6), scores_mean2, yerr=scores_std2, fmt = 'ob')\n",
      "plt.xlim(-1, 6)\n",
      "plt.xticks(range(6), ('knn', 'knn_u', 'bag_knn', 'svc', 'poly_s', 'ETree'))\n",
      "plt.xlabel('Models')\n",
      "plt.ylabel('Accuracy')\n",
      "plt.title(u'The accuracy of recognize handwritten digits');"
     ],
     "language": "python",
     "metadata": {},
     "outputs": [
      {
       "metadata": {},
       "output_type": "display_data",
       "png": "[encoded data removed]",
       "text": [
        "<matplotlib.figure.Figure at 0x18117b70>"
       ]
      }
     ],
     "prompt_number": 21
    },
    {
     "cell_type": "markdown",
     "metadata": {},
     "source": [
      "**We choose the models:**\n",
      "\n",
      "- k nearest neighbors\n",
      "- support vector machine which kernel is poly"
     ]
    },
    {
     "cell_type": "code",
     "collapsed": false,
     "input": [
      "x_train, x_test, y_train, y_test = train_test_split(digits.data, digits.target, test_size = 0.5, random_state = 0)"
     ],
     "language": "python",
     "metadata": {},
     "outputs": [],
     "prompt_number": 22
    },
    {
     "cell_type": "code",
     "collapsed": false,
     "input": [
      "model_list3 = [knn]\n",
      "\n",
      "for model in model_list3:\n",
      "    y_pred = model.fit(x_train, y_train).predict(x_test)\n",
      "    print('Model:\\n\\n%s\\n' % model)\n",
      "    print('Classification Report:\\n\\n%s' % classification_report(y_test, y_pred))\n",
      "    print(\"Confusion matrix:\\n\\n%s\\n\" % confusion_matrix(y_test, y_pred))\n",
      "    print('**********************************************************************')"
     ],
     "language": "python",
     "metadata": {},
     "outputs": [
      {
       "output_type": "stream",
       "stream": "stdout",
       "text": [
        "Model:\n",
        "\n",
        "KNeighborsClassifier(algorithm='auto', leaf_size=30, metric='minkowski',\n",
        "           metric_params=None, n_neighbors=5, p=2, weights='distance')\n",
        "\n",
        "Classification Report:\n",
        "\n",
        "             precision    recall  f1-score   support\n",
        "\n",
        "          0       1.00      1.00      1.00        89\n",
        "          1       0.94      1.00      0.97        90\n",
        "          2       1.00      0.99      0.99        92\n",
        "          3       0.97      1.00      0.98        93\n",
        "          4       0.99      0.99      0.99        76\n",
        "          5       0.98      0.97      0.98       108\n",
        "          6       0.98      1.00      0.99        89\n",
        "          7       0.99      1.00      0.99        78\n",
        "          8       1.00      0.89      0.94        92\n",
        "          9       0.96      0.96      0.96        92\n",
        "\n",
        "avg / total       0.98      0.98      0.98       899\n",
        "\n",
        "Confusion matrix:\n",
        "\n",
        "[[ 89   0   0   0   0   0   0   0   0   0]\n",
        " [  0  90   0   0   0   0   0   0   0   0]\n",
        " [  0   1  91   0   0   0   0   0   0   0]\n",
        " [  0   0   0  93   0   0   0   0   0   0]\n",
        " [  0   0   0   0  75   0   0   1   0   0]\n",
        " [  0   0   0   0   1 105   0   0   0   2]\n",
        " [  0   0   0   0   0   0  89   0   0   0]\n",
        " [  0   0   0   0   0   0   0  78   0   0]\n",
        " [  0   5   0   1   0   0   2   0  82   2]\n",
        " [  0   0   0   2   0   2   0   0   0  88]]\n",
        "\n",
        "**********************************************************************\n"
       ]
      }
     ],
     "prompt_number": 23
    },
    {
     "cell_type": "markdown",
     "metadata": {},
     "source": [
      "**K nearest neighbors:**\n",
      "\n",
      "- The digits which predicted digits are all correct (precision = 1.00) are 0,2,8;\n",
      "- The digits which true digits are all recognized (recall = 1.00) are 0,1,3,6,7;"
     ]
    },
    {
     "cell_type": "code",
     "collapsed": false,
     "input": [
      "model_list3 = [poly_svc]\n",
      "\n",
      "for model in model_list3:\n",
      "    y_pred = model.fit(x_train, y_train).predict(x_test)\n",
      "    print('Model:\\n\\n%s\\n' % model)\n",
      "    print('Classification Report:\\n\\n%s' % classification_report(y_test, y_pred))\n",
      "    print(\"Confusion matrix:\\n\\n%s\\n\" % confusion_matrix(y_test, y_pred))\n",
      "    print('**********************************************************************')"
     ],
     "language": "python",
     "metadata": {},
     "outputs": [
      {
       "output_type": "stream",
       "stream": "stdout",
       "text": [
        "Model:\n",
        "\n",
        "SVC(C=1.0, cache_size=200, class_weight=None, coef0=0.0, degree=3, gamma=0.0,\n",
        "  kernel='poly', max_iter=-1, probability=False, random_state=None,\n",
        "  shrinking=True, tol=0.001, verbose=False)\n",
        "\n",
        "Classification Report:\n",
        "\n",
        "             precision    recall  f1-score   support\n",
        "\n",
        "          0       1.00      1.00      1.00        89\n",
        "          1       0.97      0.99      0.98        90\n",
        "          2       0.99      0.99      0.99        92\n",
        "          3       0.97      0.99      0.98        93\n",
        "          4       1.00      1.00      1.00        76\n",
        "          5       0.96      0.97      0.97       108\n",
        "          6       0.98      0.99      0.98        89\n",
        "          7       0.99      1.00      0.99        78\n",
        "          8       1.00      0.95      0.97        92\n",
        "          9       0.99      0.97      0.98        92\n",
        "\n",
        "avg / total       0.98      0.98      0.98       899\n",
        "\n",
        "Confusion matrix:\n",
        "\n",
        "[[ 89   0   0   0   0   0   0   0   0   0]\n",
        " [  0  89   0   0   0   1   0   0   0   0]\n",
        " [  0   0  91   0   0   0   0   1   0   0]\n",
        " [  0   0   1  92   0   0   0   0   0   0]\n",
        " [  0   0   0   0  76   0   0   0   0   0]\n",
        " [  0   0   0   1   0 105   1   0   0   1]\n",
        " [  0   1   0   0   0   0  88   0   0   0]\n",
        " [  0   0   0   0   0   0   0  78   0   0]\n",
        " [  0   2   0   1   0   1   1   0  87   0]\n",
        " [  0   0   0   1   0   2   0   0   0  89]]\n",
        "\n",
        "**********************************************************************\n"
       ]
      }
     ],
     "prompt_number": 24
    },
    {
     "cell_type": "markdown",
     "metadata": {},
     "source": [
      "**Support vector machine which kernel is poly:**\n",
      "\n",
      "- The digits which predicted digits are all correct (precision = 1.00) are 0,4,8;\n",
      "- The digits which true digits are all recognized (recall = 1.00) are 0,4,7;"
     ]
    }
   ],
   "metadata": {}
  }
 ]
}